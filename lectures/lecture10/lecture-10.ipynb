{
 "cells": [
  {
   "cell_type": "markdown",
   "metadata": {
    "slideshow": {
     "slide_type": "slide"
    }
   },
   "source": [
    "# Lecture 10:  Sparse direct solvers"
   ]
  },
  {
   "cell_type": "markdown",
   "metadata": {
    "slideshow": {
     "slide_type": "slide"
    }
   },
   "source": [
    "## Recap of the previous part\n",
    "\n",
    "- Distributed memory for huge dense matrices\n",
    "- Sparse matrix formats (COO, CSR, CSC)\n",
    "- Matrix-by-vector product\n",
    "- Inefficiency of sparse matrix processing\n",
    "- Approaches to reduce cache misses"
   ]
  },
  {
   "cell_type": "markdown",
   "metadata": {
    "slideshow": {
     "slide_type": "slide"
    }
   },
   "source": [
    "## Plan for this week: how to solve large sparse linear systems\n",
    "\n",
    "- Direct methods (start today and continue in the next lecture)\n",
    "    - LU decomposition\n",
    "    - Number of reordering techniques to minimize fill-in\n",
    "- Krylov methods"
   ]
  },
  {
   "cell_type": "markdown",
   "metadata": {
    "slideshow": {
     "slide_type": "slide"
    }
   },
   "source": [
    "## Plan for today\n",
    "\n",
    "Sparse direct solvers: \n",
    "\n",
    "- LU decomposition of sparse matrices\n",
    "- fill-in of $L$ and $U$ factors\n",
    "- nested dissection\n",
    "- spectral clustering in details"
   ]
  },
  {
   "cell_type": "markdown",
   "metadata": {
    "slideshow": {
     "slide_type": "slide"
    }
   },
   "source": [
    "## Direct methods for sparse matrix: LU decomposition\n",
    "\n",
    "- Why sparse linear systems can be solved faster, what is the technique? \n",
    "\n",
    "- In the LU factorization of the matrix $A$ the factors $L$ and $U$ can be also sparse:\n",
    "\n",
    "$$A = L U$$\n",
    "\n",
    "- And solving linear systems with **sparse** triangular matrices is very easy.  \n",
    "\n",
    "<span style=\"color:red\"> Note that the inverse matrix to sparse matrix is not sparse! </span>\n"
   ]
  },
  {
   "cell_type": "code",
   "execution_count": 5,
   "metadata": {
    "slideshow": {
     "slide_type": "slide"
    }
   },
   "outputs": [
    {
     "name": "stdout",
     "output_type": "stream",
     "text": [
      "[[-2.  1.  0.  0.  0.  0.  0.]\n",
      " [ 1. -2.  1.  0.  0.  0.  0.]\n",
      " [ 0.  1. -2.  1.  0.  0.  0.]\n",
      " [ 0.  0.  1. -2.  1.  0.  0.]\n",
      " [ 0.  0.  0.  1. -2.  1.  0.]\n",
      " [ 0.  0.  0.  0.  1. -2.  1.]\n",
      " [ 0.  0.  0.  0.  0.  1. -2.]]\n",
      "[[-0.875 -0.75  -0.625 -0.5   -0.375 -0.25  -0.125]\n",
      " [-0.75  -1.5   -1.25  -1.    -0.75  -0.5   -0.25 ]\n",
      " [-0.625 -1.25  -1.875 -1.5   -1.125 -0.75  -0.375]\n",
      " [-0.5   -1.    -1.5   -2.    -1.5   -1.    -0.5  ]\n",
      " [-0.375 -0.75  -1.125 -1.5   -1.875 -1.25  -0.625]\n",
      " [-0.25  -0.5   -0.75  -1.    -1.25  -1.5   -0.75 ]\n",
      " [-0.125 -0.25  -0.375 -0.5   -0.625 -0.75  -0.875]]\n"
     ]
    },
    {
     "data": {
      "text/plain": [
       "array([1.75000000e+00, 7.67644213e-17, 5.66270826e-36])"
      ]
     },
     "execution_count": 5,
     "metadata": {},
     "output_type": "execute_result"
    }
   ],
   "source": [
    "import numpy as np\n",
    "import scipy.sparse as spsp\n",
    "n = 7\n",
    "ex = np.ones(n);\n",
    "a = spsp.spdiags(np.vstack((ex,  -2*ex, ex)), [-1, 0, 1], n, n, 'csr'); \n",
    "b = np.array(np.linalg.inv(a.toarray()))\n",
    "print(a.toarray())\n",
    "print(b)\n",
    "np.linalg.svd(b[:3, 4:])[1]"
   ]
  },
  {
   "cell_type": "markdown",
   "metadata": {
    "slideshow": {
     "slide_type": "slide"
    }
   },
   "source": [
    "## And the factors...\n",
    "\n",
    "$L$ and $U$ are typically sparse. In the tridiagonal case they are even bidiagonal!"
   ]
  },
  {
   "cell_type": "code",
   "execution_count": 3,
   "metadata": {
    "slideshow": {
     "slide_type": "fragment"
    }
   },
   "outputs": [
    {
     "name": "stdout",
     "output_type": "stream",
     "text": [
      "[[ 1.          0.          0.          0.          0.          0.\n",
      "   0.        ]\n",
      " [-0.5         1.          0.          0.          0.          0.\n",
      "   0.        ]\n",
      " [ 0.         -0.66666667  1.          0.          0.          0.\n",
      "   0.        ]\n",
      " [ 0.          0.         -0.75        1.          0.          0.\n",
      "   0.        ]\n",
      " [ 0.          0.          0.         -0.8         1.          0.\n",
      "   0.        ]\n",
      " [ 0.          0.          0.          0.         -0.83333333  1.\n",
      "   0.        ]\n",
      " [ 0.          0.          0.          0.          0.         -0.85714286\n",
      "   1.        ]]\n"
     ]
    }
   ],
   "source": [
    "from scipy.sparse.linalg import splu\n",
    "T = splu(a.tocsc(), permc_spec=\"NATURAL\")\n",
    "print(T.L.toarray())"
   ]
  },
  {
   "cell_type": "markdown",
   "metadata": {
    "slideshow": {
     "slide_type": "slide"
    }
   },
   "source": [
    "Interesting to note that ```splu``` without ```permc_spec``` will produce permutations which will not yield the bidiagonal factor:"
   ]
  },
  {
   "cell_type": "code",
   "execution_count": 4,
   "metadata": {
    "slideshow": {
     "slide_type": "fragment"
    }
   },
   "outputs": [
    {
     "name": "stdout",
     "output_type": "stream",
     "text": [
      "[[ 1.          0.          0.          0.          0.          0.\n",
      "   0.        ]\n",
      " [-0.5         1.          0.          0.          0.          0.\n",
      "   0.        ]\n",
      " [ 0.         -0.66666667  1.          0.          0.          0.\n",
      "   0.        ]\n",
      " [ 0.          0.         -0.75        1.          0.          0.\n",
      "   0.        ]\n",
      " [ 0.          0.          0.          0.          1.          0.\n",
      "   0.        ]\n",
      " [ 0.          0.          0.         -0.8        -0.5         1.\n",
      "   0.        ]\n",
      " [ 0.          0.          0.          0.         -0.5        -0.71428571\n",
      "   1.        ]]\n",
      "[0 1 2 3 5 4 6]\n"
     ]
    }
   ],
   "source": [
    "from scipy.sparse.linalg import splu\n",
    "T = splu(a.tocsc())\n",
    "print(T.L.todense())\n",
    "print(T.perm_c)"
   ]
  },
  {
   "cell_type": "markdown",
   "metadata": {
    "slideshow": {
     "slide_type": "slide"
    }
   },
   "source": [
    "## 2D-case\n",
    "From a matrix that comes as a discretization of  a two-dimensional problem \n",
    "everything is much worse:"
   ]
  },
  {
   "cell_type": "code",
   "execution_count": 10,
   "metadata": {
    "slideshow": {
     "slide_type": "fragment"
    }
   },
   "outputs": [
    {
     "data": {
      "text/plain": [
       "<matplotlib.lines.Line2D at 0x1192c9850>"
      ]
     },
     "execution_count": 10,
     "metadata": {},
     "output_type": "execute_result"
    },
    {
     "data": {
      "image/png": "[encoded data removed]",
      "text/plain": [
       "<Figure size 432x288 with 1 Axes>"
      ]
     },
     "metadata": {
      "needs_background": "light"
     },
     "output_type": "display_data"
    }
   ],
   "source": [
    "import scipy as sp\n",
    "import scipy.sparse as spsp\n",
    "import scipy.sparse.linalg\n",
    "import matplotlib.pyplot as plt\n",
    "%matplotlib inline\n",
    "n = 20\n",
    "ex = np.ones(n);\n",
    "lp1 = sp.sparse.spdiags(np.vstack((ex,  -2*ex, ex)), [-1, 0, 1], n, n, 'csr'); \n",
    "e = sp.sparse.eye(n)\n",
    "A = sp.sparse.kron(lp1, e) + sp.sparse.kron(e, lp1)\n",
    "A = spsp.csc_matrix(A)\n",
    "T = spsp.linalg.splu(A)\n",
    "plt.spy(T.L, marker='.', color='k', markersize=8)\n",
    "#plt.spy(A, marker='.', color='k', markersize=8)"
   ]
  },
  {
   "cell_type": "markdown",
   "metadata": {
    "slideshow": {
     "slide_type": "slide"
    }
   },
   "source": [
    "For correct permutation in 2D case the number of nonzeros in  $L$ factor grows as $\\mathcal{O}(N \\log N)$. But  complexity is $\\mathcal{O}(N^{3/2})$."
   ]
  },
  {
   "cell_type": "markdown",
   "metadata": {
    "slideshow": {
     "slide_type": "slide"
    }
   },
   "source": [
    "## Main challenge: how to make factors $L$ and $U$ as sparse as possible?"
   ]
  },
  {
   "cell_type": "markdown",
   "metadata": {
    "slideshow": {
     "slide_type": "slide"
    }
   },
   "source": [
    "## Main tool to analyze factors sparsity: graph theory\n",
    "\n",
    "- The number of nonzeros in LU decomposition has a deep connection to the graph theory.\n",
    "\n",
    "- ``networkx package`` can be used to visualize graphs, given only the adjacency matrix. \n",
    "\n",
    "- It may even recover to some extend the graph structure."
   ]
  },
  {
   "cell_type": "code",
   "execution_count": 12,
   "metadata": {
    "slideshow": {
     "slide_type": "slide"
    }
   },
   "outputs": [
    {
     "data": {
      "image/png": "[encoded data removed]",
      "text/plain": [
       "<Figure size 432x288 with 1 Axes>"
      ]
     },
     "metadata": {},
     "output_type": "display_data"
    }
   ],
   "source": [
    "import networkx as nx\n",
    "n = 10\n",
    "ex = np.ones(n);\n",
    "lp1 = sp.sparse.spdiags(np.vstack((ex,  -2*ex, ex)), [-1, 0, 1], n, n, 'csr'); \n",
    "e = sp.sparse.eye(n)\n",
    "A = sp.sparse.kron(lp1, e) + sp.sparse.kron(e, lp1)\n",
    "A = spsp.csc_matrix(A)\n",
    "G = nx.Graph(A)\n",
    "nx.draw(G, pos=nx.spectral_layout(G), node_size=50)"
   ]
  },
  {
   "cell_type": "markdown",
   "metadata": {
    "slideshow": {
     "slide_type": "slide"
    }
   },
   "source": [
    "## What is fill-in?\n",
    "\n",
    "- The fill-in of a matrix are those entries which change from an initial zero to a nonzero value during the execution of an algorithm.\n",
    "\n",
    "- The fill-in is different for different permutations. So, before factorization we need to find reordering which produces the smallest fill-in.\n",
    "\n",
    "**Example**\n",
    "\n",
    "$$A = \\begin{bmatrix} * & * & * & * & *\\\\ * & * & 0 & 0 & 0 \\\\ * & 0  & * & 0 & 0 \\\\ * & 0 & 0& * & 0 \\\\ * & 0 & 0& 0 & * \\end{bmatrix} $$\n",
    "\n",
    "If we eliminate elements from the top to the bottom, then we will obtain dense matrix.\n",
    "However, we could maintain sparsity if elimination was done from the bottom to the top."
   ]
  },
  {
   "cell_type": "markdown",
   "metadata": {
    "slideshow": {
     "slide_type": "slide"
    }
   },
   "source": [
    "## Example of dense factors after LU \n",
    "\n",
    "Given matrix $A=A^*>0$ we calculate its Cholesky decomposition $A = LL^*$.\n",
    "\n",
    "Factor $L$ can be dense even if $A$ is sparse:\n",
    "\n",
    "$$\n",
    "\\begin{bmatrix} * & * & * & * \\\\ * & * &  &  \\\\ * &  & * &  \\\\ * &  &  & * \\end{bmatrix} = \n",
    "\\begin{bmatrix} * &  &  &  \\\\ * & * &  &  \\\\ * & * & * &  \\\\ * & * & * & * \\end{bmatrix}\n",
    "\\begin{bmatrix} * & * & * & * \\\\  & * & * & * \\\\  &  & * & * \\\\  &  &  & * \\end{bmatrix}\n",
    "$$\n",
    "\n",
    "How to make factors sparse, i.e. to minimize the **fill-in**?"
   ]
  },
  {
   "cell_type": "markdown",
   "metadata": {
    "slideshow": {
     "slide_type": "slide"
    }
   },
   "source": [
    "## Why permutations can reduce fill-in? Here the example...\n",
    "\n",
    "We need to find a permutation of indices so that factors are sparse, i.e. we build Cholesky factorisation of $PAP^\\top$, where $P$ is a permutation matrix.\n",
    "\n",
    "For the example from the previous slide\n",
    "\n",
    "$$\n",
    "P \\begin{bmatrix} * & * & * & * \\\\ * & * &  &  \\\\ * &  & * &  \\\\ * &  &  & * \\end{bmatrix} P^\\top = \n",
    "\\begin{bmatrix} * &  &  & *  \\\\  & * &  & * \\\\  &  & * & * \\\\ * & * & * & * \\end{bmatrix} = \n",
    "\\begin{bmatrix} * &  &  &  \\\\  & * &  &  \\\\  &  & * &  \\\\ * & * & * & * \\end{bmatrix}\n",
    "\\begin{bmatrix} * &  &  & *  \\\\  & * &  & * \\\\  &  & * & * \\\\  & &  & * \\end{bmatrix}\n",
    "$$\n",
    "\n",
    "where\n",
    "\n",
    "$$\n",
    "P = \\begin{bmatrix}  &  &  & 1 \\\\  &  & 1 &  \\\\  & 1 &  &  \\\\ 1 &  &  &  \\end{bmatrix}\n",
    "$$\n",
    "\n",
    "- Arrowhead form of the matrix gives sparse factors in LU decomposition"
   ]
  },
  {
   "cell_type": "code",
   "execution_count": 13,
   "metadata": {
    "slideshow": {
     "slide_type": "slide"
    }
   },
   "outputs": [
    {
     "name": "stdout",
     "output_type": "stream",
     "text": [
      "Original matrix\n"
     ]
    },
    {
     "data": {
      "image/png": "[encoded data removed]",
      "text/plain": [
       "<Figure size 432x288 with 1 Axes>"
      ]
     },
     "metadata": {
      "needs_background": "light"
     },
     "output_type": "display_data"
    },
    {
     "name": "stdout",
     "output_type": "stream",
     "text": [
      "L factor\n"
     ]
    },
    {
     "data": {
      "image/png": "[encoded data removed]",
      "text/plain": [
       "<Figure size 432x288 with 1 Axes>"
      ]
     },
     "metadata": {
      "needs_background": "light"
     },
     "output_type": "display_data"
    },
    {
     "name": "stdout",
     "output_type": "stream",
     "text": [
      "U factor\n"
     ]
    },
    {
     "data": {
      "image/png": "[encoded data removed]",
      "text/plain": [
       "<Figure size 432x288 with 1 Axes>"
      ]
     },
     "metadata": {
      "needs_background": "light"
     },
     "output_type": "display_data"
    },
    {
     "name": "stdout",
     "output_type": "stream",
     "text": [
      "Column permutation: [0 1 2 3]\n",
      "Row permutation: [1 3 2 0]\n"
     ]
    }
   ],
   "source": [
    "import numpy as np\n",
    "import scipy.sparse as spsp\n",
    "import scipy.sparse.linalg as spsplin\n",
    "import scipy.linalg as splin\n",
    "import matplotlib.pyplot as plt\n",
    "%matplotlib inline\n",
    "\n",
    "A = spsp.coo_matrix((np.random.randn(10), ([0, 0, 0, 0, 1, 1, 2, 2, 3, 3], \n",
    "                                           [0, 1, 2, 3, 0, 1, 0, 2, 0, 3])))\n",
    "print(\"Original matrix\")\n",
    "plt.spy(A)\n",
    "plt.show()\n",
    "lu = spsplin.splu(A.tocsc(), permc_spec=\"NATURAL\")\n",
    "print(\"L factor\")\n",
    "plt.spy(lu.L)\n",
    "plt.show()\n",
    "print(\"U factor\")\n",
    "plt.spy(lu.U)\n",
    "plt.show()\n",
    "print(\"Column permutation:\", lu.perm_c)\n",
    "print(\"Row permutation:\", lu.perm_r)"
   ]
  },
  {
   "cell_type": "markdown",
   "metadata": {
    "slideshow": {
     "slide_type": "slide"
    }
   },
   "source": [
    "## Block version of appropriate sparsity pattern (arrowhead structure)\n",
    "\n",
    "$$\n",
    "PAP^\\top = \\begin{bmatrix} A_{11} &  & A_{13} \\\\  & A_{22} & A_{23} \\\\ A_{31} & A_{32} & A_{33}\\end{bmatrix}\n",
    "$$\n",
    "\n",
    "then\n",
    "\n",
    "$$\n",
    "PAP^\\top = \\begin{bmatrix} A_{11} & 0 & 0 \\\\ 0 & A_{22} & 0 \\\\ A_{31} & A_{32} & A_{33} - A_{31}A_{11}^{-1} A_{13} - A_{32}A_{22}^{-1}A_{23} \\end{bmatrix} \\begin{bmatrix}  I & 0 & A_{11}^{-1}A_{13} \\\\ 0 & I & A_{22}^{-1}A_{23} \\\\ 0 & 0 & I\\end{bmatrix}\n",
    "$$\n",
    "\n",
    "- Block $ A_{33} - A_{31}A_{11}^{-1} A_{13} - A_{32}A_{22}^{-1}A_{23}$ is Schur complement for block diagonal matrix $\\begin{bmatrix} A_{11} & 0 \\\\ 0 & A_{22} \\end{bmatrix}$\n",
    "- We reduce problem to solving smaller linear systems with $A_{11}$ and $A_{22}$ "
   ]
  },
  {
   "cell_type": "markdown",
   "metadata": {
    "slideshow": {
     "slide_type": "slide"
    }
   },
   "source": [
    "## What we can do to minimize fill-in?\n",
    "\n",
    "- Reordering the rows and the columns of the sparse matrix in order to reduce the number of nonzeros in $L$ and $U$ factors is called **fill-in** minimization.\n",
    "\n",
    "- Unfortunately, [this paper](http://i.stanford.edu/pub/cstr/reports/cs/tr/75/531/CS-TR-75-531.pdf) by Rose and Tarjan in 1975 proves that fill-in minimization problem is **NP-complete**.\n",
    "\n",
    "- But, many heuristics exist:\n",
    "\n",
    "    - **Markowitz pivoting** - order by the product of nonzeros in column and row and stability constraint\n",
    "    - **Minimum degree ordering** - order by the degree of the vertex\n",
    "    - **Cuthill–McKee algorithm** (and reverse Cuthill-McKee) - reorder to minimize the bandwidth (does not exploit graph representation).\n",
    "    - **Nested dissection**: split the graph into two with minimal number of vertices on the separator (set of vertices removed after we separate the graph into two distinct connected graphs). <br> Complexity of the algorithm depends on the size of the graph separator. For 1D Laplacian separator contains only 1 vertex, in 2D - $\\sqrt{N}$ vertices."
   ]
  },
  {
   "cell_type": "markdown",
   "metadata": {
    "slideshow": {
     "slide_type": "slide"
    }
   },
   "source": [
    "### How can we find permutation?\n",
    "\n",
    "- Key idea comes from graph theory\n",
    "- Sparse matrix can be treated as an **adjacency matrix** of a certain graph:\n",
    "the vertices $(i, j)$ are connected, if the corresponding matrix element is non-zero.\n"
   ]
  },
  {
   "cell_type": "markdown",
   "metadata": {
    "slideshow": {
     "slide_type": "slide"
    }
   },
   "source": [
    "### Example\n",
    "\n",
    "Graphs of $\\begin{bmatrix} * & * & * & * \\\\ * & * &  &  \\\\ * &  & * &  \\\\ * &  &  & * \\end{bmatrix}$ and $\\begin{bmatrix} * &  &  & *  \\\\  & * &  & * \\\\  &  & * & * \\\\ * & * & * & * \\end{bmatrix}$ have the following form:\n",
    "\n",
    "<img src=\"graph_dense.png\" width=300 align=\"center\"> and <img src=\"graph_sparse.png\" width=300 align=\"center\">\n",
    "\n",
    "* Why the second ordering is better than the first one?"
   ]
  },
  {
   "cell_type": "markdown",
   "metadata": {
    "slideshow": {
     "slide_type": "slide"
    }
   },
   "source": [
    "## Fill-in upper bound minimization: Markowitz pivoting\n",
    "\n",
    "- General purpose approach to ordering the elements of sparse matrix that will be eliminated\n",
    "- The Markowitz merit for every non-zero element with indices $(i, j)$ is computed as $(r_i - 1)(c_j - 1)$, where $r_i$ is number of nonzeros elements in the $i$-th row and $c_j$ is a number of non-zero elements in the $j$-th column\n",
    "- This value is an upper abound on the fill-in after eliminating the $(i, j)$ element. **Why?**\n",
    "- We can order elements with respect to these values, select the one with minimum value, eliminate it and update matrix. What about stability?\n",
    "- Then re-compute these values and repeat the procedure\n",
    "- This method gives us the permutations of rows and columns and sparse factors\n",
    "- Main drawback is efficient supporting number of nnz in every row and column after matrix update without complete re-calculating\n",
    "- More details can be found in book [Direct Methods for Sparse Matrices by I. S. Duff, A. M. Erisman, and J. K. Reid](https://oxford.universitypressscholarship.com/view/10.1093/acprof:oso/9780198508380.001.0001/acprof-9780198508380)\n",
    "- De facto standard approach in solving Linear programming (LP) problems and their MILP modifications"
   ]
  },
  {
   "cell_type": "markdown",
   "metadata": {
    "slideshow": {
     "slide_type": "slide"
    }
   },
   "source": [
    "## What if consider only neighbours? We get minimal degree ordering!\n",
    "\n",
    "- The idea is to eliminate rows and/or columns with fewer non-zeros, update fill-in and then repeat. How it relates to Markowitz pivoting?\n",
    "\n",
    "- Efficient implementation is an issue (adding/removing elements).\n",
    "\n",
    "- Current champion is \"approximate minimal degree\" by Amestoy, Davis, Duff.\n",
    "\n",
    "- It is **suboptimal** even for 2D PDE problems\n",
    "\n",
    "- SciPy sparse package [uses](https://docs.scipy.org/doc/scipy-0.14.0/reference/generated/scipy.sparse.linalg.splu.html) minimal ordering approach for different matrices ($A^{\\top}A$, $A + A^{\\top}$) "
   ]
  },
  {
   "cell_type": "markdown",
   "metadata": {
    "slideshow": {
     "slide_type": "slide"
    }
   },
   "source": [
    "## But in these methods we ignore the knowledge of good structure for sparse LU! Let's exploit it explicitly in the method!"
   ]
  },
  {
   "cell_type": "markdown",
   "metadata": {
    "slideshow": {
     "slide_type": "slide"
    }
   },
   "source": [
    "## How to formalize reduction to block arrowhead form?\n",
    "\n",
    "**Definition.** A **separator** in a graph $G$ is a set $S$ of vertices whose removal leaves at\n",
    "least two connected components.\n",
    "\n",
    "Separator $S$ gives the following ordering for an $N$-vertex graph $G$:\n",
    "- Find a separator $S$, whose removal leaves connected components\n",
    "$T_1$, $T_2$, $\\ldots$, $T_k$\n",
    "- Number the vertices of $S$ from $N − |S| + 1$ to $N$\n",
    "- Recursively, number the vertices of each component: $T_1$ from $1$ to\n",
    "$|T_1|$, $T_2$ from $|T_1| + 1$ to $|T_1| + |T_2|$, etc\n",
    "- If a component is small enough, enumeration in this component is arbitrarily"
   ]
  },
  {
   "cell_type": "markdown",
   "metadata": {
    "slideshow": {
     "slide_type": "slide"
    }
   },
   "source": [
    "### Separator and block arrowhead structure: example\n",
    "\n",
    "Separator for the 2D Laplacian matrix \n",
    "\n",
    "$$\n",
    " A_{2D} = I \\otimes A_{1D} + A_{1D} \\otimes I, \\quad A_{1D} = \\mathrm{tridiag}(-1, 2, -1),\n",
    "$$\n",
    "\n",
    "is as follows\n",
    "\n",
    "<img src='separator.png' width=300> </img>"
   ]
  },
  {
   "cell_type": "markdown",
   "metadata": {
    "slideshow": {
     "slide_type": "slide"
    }
   },
   "source": [
    "Once we have enumerated first indices in $\\alpha$, then in $\\beta$ and separators indices in $\\sigma$ we get the following matrix\n",
    "\n",
    "$$\n",
    "PAP^\\top = \\begin{bmatrix} A_{\\alpha\\alpha} &  & A_{\\alpha\\sigma} \\\\  & A_{\\beta\\beta} & A_{\\beta\\sigma} \\\\ A_{\\sigma\\alpha} & A_{\\sigma\\beta} & A_{\\sigma\\sigma}\\end{bmatrix}\n",
    "$$\n",
    "\n",
    "which has arrowhrad structure.\n",
    "\n",
    "- Thus, the problem of finding **permutation** was reduced to the problem of finding **graph separator**!"
   ]
  },
  {
   "cell_type": "markdown",
   "metadata": {
    "slideshow": {
     "slide_type": "slide"
    }
   },
   "source": [
    "## The method of recursive reduction to block arrowhead structure – Nested dissection\n",
    "\n",
    "- For blocks $A_{\\alpha\\alpha}$, $A_{\\beta\\beta}$ we continue splitting recursively.\n",
    "\n",
    "- When the recursion is done, we need to eliminate blocks $A_{\\sigma\\alpha}$ and $A_{\\sigma\\beta}$. \n",
    "\n",
    "- This makes block in the position of $A_{\\sigma\\sigma}\\in\\mathbb{R}^{n\\times n}$ dense.\n",
    "\n",
    "Calculation of Cholesky of this block costs $\\mathcal{O}(n^3) = \\mathcal{O}(N^{3/2})$, where $N = n^2$ is the total number of nodes.\n",
    "\n",
    "So, the complexity is $\\mathcal{O}(N^{3/2})$"
   ]
  },
  {
   "cell_type": "markdown",
   "metadata": {
    "slideshow": {
     "slide_type": "slide"
    }
   },
   "source": [
    "## Packages for nested dissection\n",
    "\n",
    "- MUltifrontal Massively Parallel sparse direct Solver ([MUMPS](http://mumps.enseeiht.fr/))\n",
    "- [Pardiso](https://www.pardiso-project.org/)\n",
    "- [Umfpack as part of SuiteSparse](http://faculty.cse.tamu.edu/davis/suitesparse.html)\n",
    "\n",
    "All of them have interfaces for C/C++, Fortran and Matlab "
   ]
  },
  {
   "cell_type": "markdown",
   "metadata": {
    "slideshow": {
     "slide_type": "slide"
    }
   },
   "source": [
    "### Nested dissection summary\n",
    "\n",
    "- Enumeration: find a separator.\n",
    "- Divide-and-conquer paradigm\n",
    "- Recursively process two subsets of vertices after separation\n",
    "- In theory, nested dissection gives optimal complexity. \n",
    "- In practice, it beats others only for very large problems."
   ]
  },
  {
   "cell_type": "markdown",
   "metadata": {
    "slideshow": {
     "slide_type": "slide"
    }
   },
   "source": [
    "## Separators in practice\n",
    "\n",
    "- Computing separators is not a **trivial task**.\n",
    "\n",
    "- Graph partitioning heuristics has been an active research area for many years, often motivated by partitioning for parallel computation.\n",
    "\n",
    "Existing approaches:\n",
    "\n",
    "- Spectral partitioning (uses eigenvectors of Laplacian matrix of graph) - more details below\n",
    "- Geometric partitioning (for meshes with specified vertex coordinates) [review and analysis](http://citeseerx.ist.psu.edu/viewdoc/download?doi=10.1.1.31.4886&rep=rep1&type=pdf)\n",
    "- Iterative-swapping ([(Kernighan-Lin, 1970)](http://xilinx.asia/_hdl/4/eda.ee.ucla.edu/EE201A-04Spring/kl.pdf), [(Fiduccia-Matheysses, 1982](https://dl.acm.org/citation.cfm?id=809204))\n",
    "- Breadth-first search [(Lipton, Tarjan 1979)](http://www.cs.princeton.edu/courses/archive/fall06/cos528/handouts/sepplanar.pdf)\n",
    "- Multilevel recursive bisection (heuristic, currently most practical) ([review](https://people.csail.mit.edu/jshun/6886-s18/lectures/lecture13-1.pdf) and [paper](http://citeseerx.ist.psu.edu/viewdoc/download?doi=10.1.1.499.4130&rep=rep1&type=pdf)). Package for such kind of partitioning is called METIS, written in C, and available [here](http://glaros.dtc.umn.edu/gkhome/views/metis)"
   ]
  },
  {
   "cell_type": "markdown",
   "metadata": {
    "slideshow": {
     "slide_type": "slide"
    }
   },
   "source": [
    "## One of the ways to construct separators – spectral graph partitioning\n",
    "\n",
    "- The idea of spectral partitioning goes back to Miroslav Fiedler, who studied connectivity of graphs ([paper](https://dml.cz/bitstream/handle/10338.dmlcz/101168/CzechMathJ_23-1973-2_11.pdf)).\n",
    "\n",
    "- We need to split the vertices into two sets.\n",
    "\n",
    "- Consider +1/-1 labeling of vertices and **the cost**\n",
    "\n",
    "$$E_c(x) = \\sum_{j} \\sum_{i \\in N(j)} (x_i - x_j)^2, \\quad N(j) \\text{ denotes set of neighbours of a node } j. $$\n",
    "\n",
    "- We need a balanced partition, thus \n",
    "\n",
    "$$\\sum_i x_i =  0 \\quad \\Longleftrightarrow \\quad x^\\top e = 0, \\quad e = \\begin{bmatrix}1 & \\dots & 1\\end{bmatrix}^\\top,$$\n",
    "\n",
    "and since we have +1/-1 labels, we have\n",
    "\n",
    "$$\\sum_i x^2_i = n \\quad \\Longleftrightarrow \\quad \\|x\\|_2^2 = n.$$"
   ]
  },
  {
   "cell_type": "markdown",
   "metadata": {
    "slideshow": {
     "slide_type": "slide"
    }
   },
   "source": [
    "## Graph Laplacian\n",
    "\n",
    "Cost $E_c$ can be written as (check why)\n",
    "\n",
    "$$E_c = (Lx, x)$$\n",
    "\n",
    "where $L$ is the **graph Laplacian**, which is defined as a symmetric matrix with\n",
    "\n",
    "$$L_{ii} = \\mbox{degree of node $i$},$$\n",
    "\n",
    "$$L_{ij} = -1, \\quad \\mbox{if $i \\ne j$  and there is an edge},$$\n",
    "\n",
    "and $0$ otherwise.\n",
    "\n",
    "- Rows of $L$ sum to zero, thus there is an eigenvalue $0$ and gives trivial eigenvector of all ones.\n",
    "- Eigenvalues are non-negative (why?)."
   ]
  },
  {
   "cell_type": "markdown",
   "metadata": {
    "slideshow": {
     "slide_type": "slide"
    }
   },
   "source": [
    "## Partitioning as an optimization problem\n",
    "\n",
    "- Minimization of $E_c$ with the mentioned constraints leads to a partitioning that tries to minimize number of edges in a separator, while keeping the partition balanced. \n",
    "\n",
    "- We now relax the integer quadratic programming to the continuous quadratic programming\n",
    "\n",
    "$$E_c(x) = (Lx, x)\\to \\min_{\\substack{x^\\top e =0, \\\\ \\|x\\|_2^2 = n}}$$"
   ]
  },
  {
   "cell_type": "markdown",
   "metadata": {
    "slideshow": {
     "slide_type": "slide"
    }
   },
   "source": [
    "## From Fiedler vector to separator\n",
    "\n",
    "- The solution to the minimization problem is given by the eigenvector (called Fiedler vector) corresponding  to the second smallest eigenvalue of the graph Laplacian. Indeed,\n",
    "\n",
    "$$\n",
    "    \\min_{\\substack{x^\\top e =0, \\\\ \\|x\\|_2^2 = n}} (Lx, x) = n \\cdot \\min_{{x^\\top e =0}} \\frac{(Lx, x)}{(x, x)} = n \\cdot \\min_{{x^\\top e =0}} R(x), \\quad R(x) \\text{ is the Rayleigh quotient}\n",
    "$$\n",
    "\n",
    "- Since $e$ is the eigenvector, corresponding to the smallest eigenvalue, on the space $x^\\top e =0$ we get the second minimal eigevalue.\n",
    "\n",
    "- The sign $x_i$ indicates the partitioning.\n",
    "\n",
    "- In computations, we need to find out, how to find this second minimal eigenvalue –– we at least know about power method, but it finds the largest. We will discuss iterative methods for eigenvalue problems later in our course.\n",
    "\n",
    "- This is the main goal of the iterative methods for large-scale linear problems, and can be achieved via few matrix-by-vector products."
   ]
  },
  {
   "cell_type": "code",
   "execution_count": 14,
   "metadata": {
    "slideshow": {
     "slide_type": "slide"
    }
   },
   "outputs": [
    {
     "name": "stdout",
     "output_type": "stream",
     "text": [
      "Number of vertices = 34\n",
      "Number of edges = 78\n"
     ]
    },
    {
     "data": {
      "image/png": "[encoded data removed]",
      "text/plain": [
       "<Figure size 432x288 with 1 Axes>"
      ]
     },
     "metadata": {},
     "output_type": "display_data"
    }
   ],
   "source": [
    "import numpy as np\n",
    "%matplotlib inline\n",
    "import matplotlib.pyplot as plt\n",
    "import networkx as nx\n",
    "kn = nx.read_gml('karate.gml')\n",
    "print(\"Number of vertices = {}\".format(kn.number_of_nodes()))\n",
    "print(\"Number of edges = {}\".format(kn.number_of_edges()))\n",
    "nx.draw_networkx(kn, node_color=\"red\") #Draw the graph"
   ]
  },
  {
   "cell_type": "code",
   "execution_count": 15,
   "metadata": {
    "slideshow": {
     "slide_type": "slide"
    }
   },
   "outputs": [
    {
     "data": {
      "image/png": "[encoded data removed]",
      "text/plain": [
       "<Figure size 432x288 with 1 Axes>"
      ]
     },
     "metadata": {
      "needs_background": "light"
     },
     "output_type": "display_data"
    },
    {
     "name": "stdout",
     "output_type": "stream",
     "text": [
      "The 2 smallest eigenvalues = [-4.14058418e-15  4.68525227e-01]\n"
     ]
    }
   ],
   "source": [
    "import scipy.sparse.linalg as spsplin\n",
    "Laplacian = nx.laplacian_matrix(kn).asfptype()\n",
    "plt.spy(Laplacian, markersize=5)\n",
    "plt.title(\"Graph laplacian\")\n",
    "plt.axis(\"off\")\n",
    "plt.show()\n",
    "eigval, eigvec = spsplin.eigsh(Laplacian, k=2, which=\"SM\")\n",
    "print(\"The 2 smallest eigenvalues =\", eigval)"
   ]
  },
  {
   "cell_type": "code",
   "execution_count": 16,
   "metadata": {
    "slideshow": {
     "slide_type": "slide"
    }
   },
   "outputs": [
    {
     "data": {
      "image/png": "[encoded data removed]",
      "text/plain": [
       "<Figure size 432x288 with 1 Axes>"
      ]
     },
     "metadata": {
      "needs_background": "light"
     },
     "output_type": "display_data"
    },
    {
     "name": "stdout",
     "output_type": "stream",
     "text": [
      "Sum of elements in Fiedler vector = 8.743006318923108e-16\n"
     ]
    }
   ],
   "source": [
    "plt.scatter(np.arange(len(eigvec[:, 1])), np.sign(eigvec[:, 1]))\n",
    "plt.show()\n",
    "print(\"Sum of elements in Fiedler vector = {}\".format(np.sum(eigvec[:, 1].real)))"
   ]
  },
  {
   "cell_type": "code",
   "execution_count": 17,
   "metadata": {
    "slideshow": {
     "slide_type": "slide"
    }
   },
   "outputs": [
    {
     "data": {
      "image/png": "[encoded data removed]",
      "text/plain": [
       "<Figure size 432x288 with 1 Axes>"
      ]
     },
     "metadata": {},
     "output_type": "display_data"
    }
   ],
   "source": [
    "nx.draw_networkx(kn, node_color=np.sign(eigvec[:, 1]))"
   ]
  },
  {
   "cell_type": "markdown",
   "metadata": {
    "slideshow": {
     "slide_type": "slide"
    }
   },
   "source": [
    "### Summary on demo\n",
    "\n",
    "- Here we call SciPy sparse function to find fixed number of eigenvalues (and eigenvectors) that are smallest (other options are possible)\n",
    "- Details of the underlying method we will discuss soon\n",
    "- Fiedler vector gives simple separation of the graph\n",
    "- To separate graph on more than two parts you should use eigenvectors of laplacian as feature vectors and run some clustering algorithm, e.g. $k$-means"
   ]
  },
  {
   "cell_type": "markdown",
   "metadata": {
    "slideshow": {
     "slide_type": "slide"
    }
   },
   "source": [
    "### Fiedler vector and algebraic connectivity of a graph\n",
    "\n",
    "**Definition.** The algebraic connectivity of a graph is the second-smallest eigenvalue of the Laplacian matrix.\n",
    "\n",
    "**Claim.** The algebraic connectivity of a graph is greater than 0 if and only if a graph is a connected graph."
   ]
  },
  {
   "cell_type": "markdown",
   "metadata": {
    "slideshow": {
     "slide_type": "slide"
    }
   },
   "source": [
    "## Practical problems\n",
    "\n",
    "Computing bisection recursively is expensive. \n",
    "\n",
    "As an alternative, one typically computes **multilevel bisection** that consists of 3 phases.\n",
    "\n",
    "- Graph coarsening: From a given graph, we join vertices into larger nodes, and get sequences of graphs $G_1, \\ldots, G_m$. \n",
    "- At the coarse level, we do high-quality bisection\n",
    "- Then, we do **uncoarsening**: we propagate the splitting from $G_k$ to $G_{k-1}$ and improve the quality of the split by local optimization algorithms (refinement). "
   ]
  },
  {
   "cell_type": "markdown",
   "metadata": {
    "slideshow": {
     "slide_type": "slide"
    }
   },
   "source": [
    "## Practical problems (2)\n",
    "\n",
    "- Once the permutation has been computed, we need to implement the elimination, making use of efficient computational kernels. \n",
    "\n",
    "- If in the elemination we will be able to get the elements into **blocks**, we will be able to use BLAS-3 computations. \n",
    "\n",
    "- It is done by **supernodal** data structures: \n",
    "\n",
    "- If adjacent rows have the same sparsity structure, they can be stored in **blocks**:\n",
    "\n",
    "- Also, we can use such structure in efficient computations!\n",
    "\n",
    "[Details in this survey](https://arxiv.org/pdf/1907.05309.pdf)"
   ]
  },
  {
   "cell_type": "markdown",
   "metadata": {
    "slideshow": {
     "slide_type": "slide"
    }
   },
   "source": [
    "## Take home message\n",
    "\n",
    "- Sparse matrices & graphs ordering\n",
    "- Ordering is important for LU fill-in: more details in the next lecture\n",
    "- Markowitz pivoting and minimal degree ordering\n",
    "- Orderings from SciPy sparse package\n",
    "- Separators and how do they help in fill-in minimization\n",
    "- Nested dissection idea\n",
    "- Fiedler vector and spectral bipartitioning"
   ]
  },
  {
   "cell_type": "markdown",
   "metadata": {
    "slideshow": {
     "slide_type": "slide"
    }
   },
   "source": [
    "## Plan for the next lecture\n",
    "\n",
    "- Basic iterative methods for solving large linear systems\n",
    "- Convergence \n",
    "- Acceleration"
   ]
  },
  {
   "cell_type": "markdown",
   "metadata": {
    "slideshow": {
     "slide_type": "slide"
    }
   },
   "source": [
    "# Questions?"
   ]
  },
  {
   "cell_type": "code",
   "execution_count": 16,
   "metadata": {
    "slideshow": {
     "slide_type": "skip"
    }
   },
   "outputs": [
    {
     "data": {
      "text/html": [
       "<link href='http://fonts.googleapis.com/css?family=Fenix' rel='stylesheet' type='text/css'>\n",
       "<link href='http://fonts.googleapis.com/css?family=Alegreya+Sans:100,300,400,500,700,800,900,100italic,300italic,400italic,500italic,700italic,800italic,900italic' rel='stylesheet' type='text/css'>\n",
       "<link href='http://fonts.googleapis.com/css?family=Source+Code+Pro:300,400' rel='stylesheet' type='text/css'>\n",
       "<style>\n",
       "    @font-face {\n",
       "        font-family: \"Computer Modern\";\n",
       "        src: url('http://mirrors.ctan.org/fonts/cm-unicode/fonts/otf/cmunss.otf');\n",
       "    }\n",
       "    div.cell{\n",
       "        /*width:80%;*/\n",
       "        /*margin-left:auto !important;\n",
       "        margin-right:auto;*/\n",
       "    }\n",
       "    h1 {\n",
       "        font-family: 'Alegreya Sans', sans-serif;\n",
       "    }\n",
       "    h2 {\n",
       "        font-family: 'Fenix', serif;\n",
       "    }\n",
       "    h3{\n",
       "\t\tfont-family: 'Fenix', serif;\n",
       "        margin-top:12px;\n",
       "        margin-bottom: 3px;\n",
       "       }\n",
       "\th4{\n",
       "\t\tfont-family: 'Fenix', serif;\n",
       "       }\n",
       "    h5 {\n",
       "        font-family: 'Alegreya Sans', sans-serif;\n",
       "    }\t   \n",
       "    div.text_cell_render{\n",
       "        font-family: 'Alegreya Sans',Computer Modern, \"Helvetica Neue\", Arial, Helvetica, Geneva, sans-serif;\n",
       "        line-height: 1.2;\n",
       "        font-size: 120%;\n",
       "        /*width:70%;*/\n",
       "        /*margin-left:auto;*/\n",
       "        margin-right:auto;\n",
       "    }\n",
       "    .CodeMirror{\n",
       "            font-family: \"Source Code Pro\";\n",
       "\t\t\tfont-size: 90%;\n",
       "    }\n",
       "/*    .prompt{\n",
       "        display: None;\n",
       "    }*/\n",
       "    .text_cell_render h1 {\n",
       "        font-weight: 200;\n",
       "        font-size: 50pt;\n",
       "\t\tline-height: 110%;\n",
       "        color:#CD2305;\n",
       "        margin-bottom: 0.5em;\n",
       "        margin-top: 0.5em;\n",
       "        display: block;\n",
       "    }\t\n",
       "    .text_cell_render h5 {\n",
       "        font-weight: 300;\n",
       "        font-size: 16pt;\n",
       "        color: #CD2305;\n",
       "        font-style: italic;\n",
       "        margin-bottom: .5em;\n",
       "        margin-top: 0.5em;\n",
       "        display: block;\n",
       "    }\n",
       "    \n",
       "    li {\n",
       "        line-height: 110%;\n",
       "    }\n",
       "    .warning{\n",
       "        color: rgb( 240, 20, 20 )\n",
       "        }  \n",
       "\n",
       "</style>\n",
       "\n",
       "<script>\n",
       "    MathJax.Hub.Config({\n",
       "                        TeX: {\n",
       "                           extensions: [\"AMSmath.js\"]\n",
       "                           },\n",
       "                tex2jax: {\n",
       "                    inlineMath: [ ['$','$'], [\"\\\\(\",\"\\\\)\"] ],\n",
       "                    displayMath: [ ['$$','$$'], [\"\\\\[\",\"\\\\]\"] ]\n",
       "                },\n",
       "                displayAlign: 'center', // Change this to 'center' to center equations.\n",
       "                \"HTML-CSS\": {\n",
       "                    styles: {'.MathJax_Display': {\"margin\": 4}}\n",
       "                }\n",
       "        });\n",
       "</script>\n"
      ],
      "text/plain": [
       "<IPython.core.display.HTML object>"
      ]
     },
     "execution_count": 16,
     "metadata": {},
     "output_type": "execute_result"
    }
   ],
   "source": [
    "from IPython.core.display import HTML\n",
    "def css_styling():\n",
    "    styles = open(\"./styles/custom.css\", \"r\").read()\n",
    "    return HTML(styles)\n",
    "css_styling()"
   ]
  }
 ],
 "metadata": {
  "anaconda-cloud": {},
  "celltoolbar": "Slideshow",
  "kernelspec": {
   "display_name": "Python 3",
   "language": "python",
   "name": "python3"
  },
  "language_info": {
   "codemirror_mode": {
    "name": "ipython",
    "version": 3
   },
   "file_extension": ".py",
   "mimetype": "text/x-python",
   "name": "python",
   "nbconvert_exporter": "python",
   "pygments_lexer": "ipython3",
   "version": "3.7.7"
  },
  "nav_menu": {},
  "toc": {
   "navigate_menu": true,
   "number_sections": false,
   "sideBar": true,
   "threshold": 6,
   "toc_cell": false,
   "toc_section_display": "block",
   "toc_window_display": false
  }
 },
 "nbformat": 4,
 "nbformat_minor": 1
}
